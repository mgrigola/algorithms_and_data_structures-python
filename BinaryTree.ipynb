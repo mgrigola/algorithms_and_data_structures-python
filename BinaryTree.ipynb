{
 "cells": [
  {
   "cell_type": "code",
   "execution_count": null,
   "metadata": {
    "collapsed": true
   },
   "outputs": [],
   "source": [
    "class BinaryTree:\n",
    "    class BinaryTreeNode:\n",
    "        def __init__(self, _item, _leftLink=None, _rightLink=None):\n",
    "            self.item = _item\n",
    "            self.leftLink = _leftLink\n",
    "            self.rightLink = _rightLink\n",
    "        \n",
    "    def __init__(self):\n",
    "        self.head = None\n",
    "    \n",
    "    def search(self, srchKey):\n",
    "        self.search_recurse(self.head, srchKey)\n",
    "    \n",
    "    def search_recurse(self, curNode, srchKey):\n",
    "        if curNode == None:\n",
    "            return None\n",
    "        \n",
    "        curNodeKey = curNode.item.key\n",
    "        if srchKey == curNodeKey:\n",
    "            return curNode.item\n",
    "        if srchKey < curNodeKey:\n",
    "            return self.search_recurse(curNode.leftLink, srchKey)\n",
    "        else:\n",
    "            return self.search_recurse(curNode.rightLink, srchKey)\n",
    "        \n",
    "    def insert(self, item):\n",
    "\n",
    "        \n",
    "class TreeItem:\n",
    "    def __init__(self, key, val):\n",
    "        self.key = key\n",
    "        self.val = val"
   ]
  },
  {
   "cell_type": "code",
   "execution_count": 6,
   "metadata": {
    "collapsed": true
   },
   "outputs": [],
   "source": [
    "class BinaryTree:\n",
    "    def __init__(self, value, left, right):\n",
    "        self.value = value;\n",
    "        self.left = left;\n",
    "        self.right = right;\n",
    "    \n",
    "def flatten(tree):\n",
    "    retList = []\n",
    "    flatten_r(tree, retList)\n",
    "    return retList\n",
    "\n",
    "def flatten_r(curNode, retList):\n",
    "    if curNode == None:\n",
    "        return\n",
    "     \n",
    "    flatten_r(curNode.left, retList)\n",
    "    retList.append(curNode.value)\n",
    "    flatten_r(curNode.right, retList)\n",
    "\n",
    "\n"
   ]
  },
  {
   "cell_type": "code",
   "execution_count": null,
   "metadata": {
    "collapsed": true
   },
   "outputs": [],
   "source": [
    "def flatten(tree):\n",
    "    retList = []\n",
    "    return flatten_r(tree, None, retList)\n",
    "\n",
    "\n",
    "def flatten_r(curNode, lastNode, retList):\n",
    "    if curNode == None:\n",
    "        return\n",
    "\n",
    "    if curNode.left == None or curNode.left == lastNode:\n",
    "        retList.append(curNode.val)\n",
    "        if curNode.left == lastNode:\n",
    "            flatten_r(lastNode, curNode, retList)\n",
    "    else:\n",
    "        flatten_r(curNode.left, curNode, retList)\n",
    "        \n",
    "    if curNode.right =\n",
    "    else:\n"
   ]
  },
  {
   "cell_type": "code",
   "execution_count": 26,
   "metadata": {
    "collapsed": true
   },
   "outputs": [],
   "source": [
    "def is_valid_path(tree, values):\n",
    "    curNode = tree\n",
    "    if curNode None or curNode.value != values[0]:\n",
    "        return False\n",
    "\n",
    "    nVals = len(values)\n",
    "    if nVals == 1:\n",
    "        return True\n",
    "\n",
    "    valNo = 1\n",
    "    nextVal = values[valNo]\n",
    "   \n",
    "    while True:\n",
    "        #print(valNo, curNode.value, nextVal)\n",
    "        if nextVal is None:\n",
    "            if curNode.left is None or curNode.right is None:\n",
    "                return True\n",
    "            else:\n",
    "                return False\n",
    "         \n",
    "        if curNode.left is not None and curNode.left.value == nextVal:\n",
    "            curNode = curNode.left\n",
    "            \n",
    "        elif curNode.right is not None and curNode.right.value == nextVal:\n",
    "            curNode = curNode.right\n",
    "\n",
    "        else:\n",
    "            return False\n",
    "        \n",
    "        valNo += 1\n",
    "        nextVal = (None if valNo == nVals else values[valNo])"
   ]
  },
  {
   "cell_type": "code",
   "execution_count": 25,
   "metadata": {
    "collapsed": false,
    "scrolled": true
   },
   "outputs": [
    {
     "name": "stdout",
     "output_type": "stream",
     "text": [
      "1 1 2\n",
      "2 2 None\n"
     ]
    },
    {
     "data": {
      "text/plain": [
       "False"
      ]
     },
     "execution_count": 25,
     "metadata": {},
     "output_type": "execute_result"
    }
   ],
   "source": [
    "is_valid_path(t1, [1,2])"
   ]
  },
  {
   "cell_type": "code",
   "execution_count": 4,
   "metadata": {
    "collapsed": false
   },
   "outputs": [],
   "source": [
    "t4 = BinaryTree(4, None, None)\n",
    "t5 = BinaryTree(5, None, None)\n",
    "t8 = BinaryTree(8, None, None)\n",
    "t9 = BinaryTree(9, None, None)\n",
    "t3 = BinaryTree(3, t4, None)\n",
    "t2 = BinaryTree(2, t3, t5)\n",
    "t7 = BinaryTree(7, t8, t9)\n",
    "t6 = BinaryTree(6, t7, None)\n",
    "t1 = BinaryTree(1, t2, t6)"
   ]
  },
  {
   "cell_type": "code",
   "execution_count": 7,
   "metadata": {
    "collapsed": false
   },
   "outputs": [
    {
     "data": {
      "text/plain": [
       "[4, 3, 2, 5, 1, 8, 7, 9, 6]"
      ]
     },
     "execution_count": 7,
     "metadata": {},
     "output_type": "execute_result"
    }
   ],
   "source": [
    "flatten(t1)"
   ]
  }
 ],
 "metadata": {
  "kernelspec": {
   "display_name": "Python 3",
   "language": "python",
   "name": "python3"
  },
  "language_info": {
   "codemirror_mode": {
    "name": "ipython",
    "version": 3
   },
   "file_extension": ".py",
   "mimetype": "text/x-python",
   "name": "python",
   "nbconvert_exporter": "python",
   "pygments_lexer": "ipython3",
   "version": "3.4.4"
  }
 },
 "nbformat": 4,
 "nbformat_minor": 0
}
