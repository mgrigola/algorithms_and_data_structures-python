{
 "cells": [
  {
   "cell_type": "code",
   "execution_count": 1,
   "metadata": {
    "collapsed": false
   },
   "outputs": [
    {
     "data": {
      "text/html": [
       "<style>.container { width: 100% !important; }</style>"
      ],
      "text/plain": [
       "<IPython.core.display.HTML object>"
      ]
     },
     "metadata": {},
     "output_type": "display_data"
    }
   ],
   "source": [
    "from IPython.core.display import display, HTML\n",
    "display(HTML(\"<style>.container { width: 100% !important; }</style>\"))"
   ]
  },
  {
   "cell_type": "code",
   "execution_count": null,
   "metadata": {
    "collapsed": true
   },
   "outputs": [],
   "source": [
    "# Python Program for Floyd Warshall Algorithm \n",
    "# Solves all pair shortest path via Floyd Warshall Algrorithm\n",
    "def floydWarshall(distGraph):\n",
    "    costMat = []\n",
    "    pathMat = []\n",
    "    N = len(distGraph)\n",
    "    for fromNode in range(N):\n",
    "        cRow = []\n",
    "        pRow = []\n",
    "        for toNode in range(N):\n",
    "            cRow.append(distGraph[fromNode][toNode])\n",
    "            pRow.append(str(fromNode)+str(toNode))\n",
    "        \n",
    "        costMat.append(cRow)\n",
    "        pathMat.append(pRow)\n",
    "            \n",
    "    for interNode in range(N):\n",
    "        for fromNode in range(N):\n",
    "            for toNode in range(N):\n",
    "                directDist = costMat[fromNode][toNode]\n",
    "                interDist = costMat[fromNode][interNode] + costMat[interNode][toNode]\n",
    "                if interDist < directDist:\n",
    "                    pathMat[fromNode][toNode] = pathMat[fromNode][interNode][:-1] + pathMat[interNode][toNode]\n",
    "                    costMat[fromNode][toNode] = interDist\n",
    "    \n",
    "    return costMat, pathMat"
   ]
  },
  {
   "cell_type": "code",
   "execution_count": null,
   "metadata": {
    "collapsed": true
   },
   "outputs": [],
   "source": [
    "#testing efficiency: crap I wrote vs flyod-Warshall vs dijsktra\n",
    "def costFromSource(costMat, sourceNode):\n",
    "    def getNextWorkNode(workList, N):\n",
    "        for nodeNo in range(N):\n",
    "            if workList[nodeNo]:\n",
    "                return nodeNo  #return first True element\n",
    "        return -1  # no work left to be done (all False)    N = len(costMat)  #count of nodes including start/end\n",
    "\n",
    "    N = len(costMat)\n",
    "    nodeList = [k for k in range(N) if k != sourceNode] #in path from beginNode to endNode, we don't need to re-visit beginNode\n",
    "    needsWork = [False]*N  #every time we update cost-to-get-to-a-node, set node# element True. We're done when all false\n",
    "    nodeCosts = [999]*N    #minimum cost-to-get-to-a-node that we know of for each node. Initially all are infinity\n",
    "    nodePaths = [[] for k in range(N)] #we save minimum cost path-to-reach-node here. We do need to know the paths as well as costs\n",
    "    needsWork[sourceNode] = True  #start by branching away from the source/begin node\n",
    "    nodeCosts[sourceNode] = 0     #used on first step to set initial cost=0\n",
    "\n",
    "    while True:\n",
    "        fromNode = getNextWorkNode(needsWork, N)  #get next node that needs work (first True element of needsWork)\n",
    "        if fromNode == -1:  #no work left, we're done\n",
    "            break\n",
    "\n",
    "        #print(fromNode)\n",
    "        curPath = nodePaths[fromNode]      # path taken (list) to reach current node (excluding beginNode). It will include fromNode\n",
    "        curPathCost = nodeCosts[fromNode]  # cost/distance from following this path     \n",
    "        newPathLen = len(curPath) + 1    #might use later if we prefer to keep the longest or shortest path when equal cost...\n",
    "\n",
    "        nodesToVisit = (node for node in nodeList if node not in curPath)  #i think this is roughly as efficient as putting the if inside the loop? generates an iterator\n",
    "        for toNode in nodesToVisit:  #branch from our fromNode to each other nodes (toNode's)\n",
    "            edgeCost = costMat[fromNode][toNode]  #get the given cost to travel directly from fromNode to toNode\n",
    "            newPathCost = edgeCost + curPathCost  #unnecessary intermediate step for clarity\n",
    "            toNodeCost = nodeCosts[toNode]\n",
    "            if newPathCost<toNodeCost or (newPathCost==nodeCosts[toNode] and newPathLen > len(nodePaths[toNode])):\n",
    "                nodeCosts[toNode] = newPathCost         #new minimum cost to reach toNode\n",
    "                nodePaths[toNode] = curPath + [toNode]  #update best path to toNode with currentPath. Append toNode\n",
    "                needsWork[toNode] = True                #indicate we need to propagate/branch from toNode given new lower cost to reach\n",
    "\n",
    "        needsWork[fromNode] = False   #having finished this iteration of while loop, fromNode o longer requires branching/work until/unless it gets updated again\n",
    "    \n",
    "    #return nodeCosts\n",
    "    return nodeCosts, nodePaths\n",
    "\n",
    "def calcCostMat(costMat):\n",
    "    minCostMat = []\n",
    "    minPathMat = []\n",
    "    for rowNo in range(len(costMat)):\n",
    "        minCostRow,minPaths = costFromSource(costMat, rowNo)\n",
    "        minCostMat.append(minCostRow)\n",
    "        minPathMat.append(minPaths)\n",
    "    \n",
    "    return minCostMat, minPathMat"
   ]
  },
  {
   "cell_type": "code",
   "execution_count": null,
   "metadata": {
    "collapsed": true
   },
   "outputs": [],
   "source": [
    "import random\n",
    "import time\n",
    "random.seed()  #seeds from current time. Probably does this automatically on import but i'm too lazy to confirm from doc\n",
    "\n",
    "def genTestMat(bunnyCount, minTime, maxTime):\n",
    "    testMat = []\n",
    "    for rowNo in range(bunnyCount+2):\n",
    "        testMat.append([random.randint(minTime,maxTime) for x in range(bunnyCount+2)])\n",
    "        testMat[rowNo][rowNo] = 0\n",
    "\n",
    "    return testMat\n",
    "\n",
    "def formLinkList(linkMat):\n",
    "    linkList = []\n",
    "    for rowNo in range(len(linkMat)):\n",
    "        for colNo in range(len(linkMat[0])):\n",
    "            if rowNo != colNo:\n",
    "                link = (rowNo, colNo)  #from rowNo to colNo\n",
    "                cost = linkMat[rowNo][colNo]\n",
    "                linkList.append([cost, link])\n",
    "    \n",
    "    linkList.sort()  #sort by ascending cost (negative/smallest first)\n",
    "    return linkList"
   ]
  },
  {
   "cell_type": "code",
   "execution_count": null,
   "metadata": {
    "collapsed": true
   },
   "outputs": [],
   "source": [
    "tMat = genTestMat(7,-1,18)\n",
    "\n",
    "t0 = time.time()\n",
    "cMat, cPath = calcCostMat(tMat)\n",
    "print(time.time() - t0)\n",
    "\n",
    "t0 = time.time()\n",
    "cMat2, cPath2 = floydWarshall(tMat)\n",
    "print(time.time() - t0)\n",
    "\n",
    "for row in tMat: print(row)"
   ]
  },
  {
   "cell_type": "code",
   "execution_count": null,
   "metadata": {
    "collapsed": true
   },
   "outputs": [],
   "source": [
    "for row in cMat: print(row)\n",
    "print()\n",
    "for row in cMat2: print(row)"
   ]
  },
  {
   "cell_type": "code",
   "execution_count": null,
   "metadata": {
    "collapsed": true
   },
   "outputs": [],
   "source": [
    "for row in cPath: print(row)\n",
    "for row in cPath2: print(row)"
   ]
  },
  {
   "cell_type": "code",
   "execution_count": null,
   "metadata": {
    "collapsed": true
   },
   "outputs": [],
   "source": [
    "with open('test_output_t.txt', 'w') as f:\n",
    "    for row in tMat:\n",
    "        f.write(str(row))\n",
    "        f.write('\\n')\n",
    "        \n",
    "with open('test_output_c.txt', 'w') as f:\n",
    "    for row in cMat:\n",
    "        f.write(str(row))\n",
    "        f.write('\\n')\n",
    "\n",
    "with open('test_output_c2.txt', 'w') as f:\n",
    "    for row in cMat2:\n",
    "        f.write(str(row))\n",
    "        f.write('\\n')"
   ]
  }
 ],
 "metadata": {
  "kernelspec": {
   "display_name": "Python 3",
   "language": "python",
   "name": "python3"
  },
  "language_info": {
   "codemirror_mode": {
    "name": "ipython",
    "version": 3
   },
   "file_extension": ".py",
   "mimetype": "text/x-python",
   "name": "python",
   "nbconvert_exporter": "python",
   "pygments_lexer": "ipython3",
   "version": "3.4.4"
  }
 },
 "nbformat": 4,
 "nbformat_minor": 0
}
