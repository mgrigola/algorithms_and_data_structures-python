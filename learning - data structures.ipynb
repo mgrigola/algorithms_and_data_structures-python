{
 "cells": [
  {
   "cell_type": "code",
   "execution_count": 1,
   "metadata": {
    "collapsed": false,
    "deletable": true,
    "editable": true
   },
   "outputs": [
    {
     "data": {
      "text/html": [
       "<style>.container { width: 100% !important; }</style>"
      ],
      "text/plain": [
       "<IPython.core.display.HTML object>"
      ]
     },
     "metadata": {},
     "output_type": "display_data"
    }
   ],
   "source": [
    "from IPython.core.display import display, HTML\n",
    "display(HTML(\"<style>.container { width: 100% !important; }</style>\"))"
   ]
  },
  {
   "cell_type": "code",
   "execution_count": 63,
   "metadata": {
    "collapsed": true,
    "deletable": true,
    "editable": true
   },
   "outputs": [],
   "source": [
    "''' Singly Linked List (Node and a linkedlist-collection class)'''\n",
    "class LinkedNode:\n",
    "    def __init__(self, _value=None, _next=None):\n",
    "        self.value = _value\n",
    "        self.next = _next\n",
    "        \n",
    "    def __str__(self):\n",
    "        return str(self.value) + ' -> ' + str(self.next)\n",
    "        \n",
    "class SinglyLinkedList:\n",
    "    def __init__(self):\n",
    "        self.head = None\n",
    "        self.tail = None\n",
    "        \n",
    "    #remove the node after prevNode\n",
    "    def remove_following(self, prevNode=None):\n",
    "        if prevNode == None:\n",
    "            removedNode = self.head\n",
    "            self.head = removedNode.next\n",
    "        else:\n",
    "            removedNode = prevNode.next\n",
    "            prevNode.next = removedNode.next\n",
    "\n",
    "        \n",
    "        if self.tail == removedNode:\n",
    "            self.tail = prevNode\n",
    "        \n",
    "        del removedNode\n",
    "        \n",
    "    #insert insertNode after prevNode\n",
    "    def insert_after(self, insertNode, prevNode=None):\n",
    "        if prevNode == None:\n",
    "            insertNode.next = self.head\n",
    "            self.head = insertNode\n",
    "        else:\n",
    "            insertNode.next = prevNode.next\n",
    "            prevNode.next = insertNode\n",
    "            \n",
    "        if self.tail == prevNode or self.tail == None:\n",
    "            self.tail = insertNode\n",
    "       \n",
    "    def __iter__(self):\n",
    "        curNode = self.head\n",
    "        while curNode is not None:\n",
    "            yield curNode\n",
    "            curNode = curNode.next\n",
    "        \n",
    "    def loop_function(self, function):\n",
    "        curNode = self.head\n",
    "        while curNode is not None:\n",
    "            function(curNode)\n",
    "            curNode = curNode.next        \n",
    "            \n",
    "    def __str__(self):\n",
    "        self.loop_function(print)\n",
    "        return ''\n",
    "    "
   ]
  },
  {
   "cell_type": "code",
   "execution_count": 64,
   "metadata": {
    "collapsed": true,
    "deletable": true,
    "editable": true
   },
   "outputs": [],
   "source": [
    "myLinks = SinglyLinkedList()\n",
    "\n",
    "link7 = LinkedNode(7)\n",
    "myLinks.insert_after(link7)"
   ]
  },
  {
   "cell_type": "code",
   "execution_count": 65,
   "metadata": {
    "collapsed": true,
    "deletable": true,
    "editable": true
   },
   "outputs": [],
   "source": [
    "link1 = LinkedNode(1)\n",
    "myLinks.insert_after(link1, None)\n",
    "\n",
    "link4 = LinkedNode(4)\n",
    "myLinks.insert_after(link4,link7)"
   ]
  },
  {
   "cell_type": "code",
   "execution_count": 67,
   "metadata": {
    "collapsed": false,
    "deletable": true,
    "editable": true,
    "scrolled": true
   },
   "outputs": [
    {
     "name": "stdout",
     "output_type": "stream",
     "text": [
      "1 -> 7 -> 4 -> None\n"
     ]
    },
    {
     "data": {
      "text/plain": [
       "<__main__.LinkedNode at 0x12af420ab00>"
      ]
     },
     "execution_count": 67,
     "metadata": {},
     "output_type": "execute_result"
    }
   ],
   "source": [
    "print(myLinks.head)\n",
    "myLinks.head"
   ]
  },
  {
   "cell_type": "code",
   "execution_count": 66,
   "metadata": {
    "collapsed": false,
    "deletable": true,
    "editable": true
   },
   "outputs": [
    {
     "name": "stdout",
     "output_type": "stream",
     "text": [
      "4 -> None\n"
     ]
    },
    {
     "data": {
      "text/plain": [
       "<__main__.LinkedNode at 0x12af420aba8>"
      ]
     },
     "execution_count": 66,
     "metadata": {},
     "output_type": "execute_result"
    }
   ],
   "source": [
    "print(myLinks.tail)\n",
    "myLinks.tail"
   ]
  },
  {
   "cell_type": "code",
   "execution_count": 68,
   "metadata": {
    "collapsed": false,
    "deletable": true,
    "editable": true,
    "scrolled": true
   },
   "outputs": [
    {
     "name": "stdout",
     "output_type": "stream",
     "text": [
      "1 -> 7 -> 4 -> None\n",
      "7 -> 4 -> None\n",
      "4 -> None\n"
     ]
    }
   ],
   "source": [
    "myLinks.loop_function(print)"
   ]
  },
  {
   "cell_type": "code",
   "execution_count": 70,
   "metadata": {
    "collapsed": false,
    "deletable": true,
    "editable": true
   },
   "outputs": [
    {
     "name": "stdout",
     "output_type": "stream",
     "text": [
      "0 1 -> 7 -> 4 -> None\n",
      "1 7 -> 4 -> None\n",
      "2 4 -> None\n"
     ]
    }
   ],
   "source": [
    "for idx,shit in enumerate(myLinks):\n",
    "    print(idx,shit)"
   ]
  },
  {
   "cell_type": "code",
   "execution_count": 107,
   "metadata": {
    "collapsed": false,
    "deletable": true,
    "editable": true,
    "scrolled": true
   },
   "outputs": [],
   "source": [
    "\"\"\"example using a singly linked list (just the Node class, no container)\"\"\"\n",
    "#this is another longest (non-continuous) incrementing sequence\n",
    "class Node:\n",
    "    def __init__(self, _val=None, _back=None):\n",
    "        global nodeList\n",
    "        self.val = _val\n",
    "        self.back = _back\n",
    "    def __iter__(self):\n",
    "        while self is not None:\n",
    "            yield self.val\n",
    "            self = self.back\n",
    "    def __lt__(self, other):\n",
    "        return self.val < other.val\n",
    "    def __eq__(self, other):\n",
    "        return self.val == other.val\n",
    "\n",
    "def my_bisect(seq, elem):\n",
    "    bisectPos = 0\n",
    "    lng = len(seq)\n",
    "    while bisectPos < lng:\n",
    "        if elem < seq[bisectPos]:\n",
    "            return bisectPos\n",
    "        bisectPos += 1\n",
    "    return lng\n",
    " \n",
    "#Returns one of the longest incrementing sequences (not necessarily continuous) of seq using patience sorting\n",
    "def patience_sort(seq):\n",
    "    if not seq:\n",
    "        return []\n",
    "    pileTops = []\n",
    "    for elem in seq:\n",
    "        #bisect_left finds position in pileTops to 'insert' value (this node), such that pileTops remains sorted\n",
    "        bisectPos = my_bisect(pileTops, Node(elem, None))        \n",
    "        newNodeBack = pileTops[bisectPos-1] if bisectPos > 0 else None\n",
    "        newNode = Node(elem, newNodeBack)\n",
    "        if bisectPos == len(pileTops):\n",
    "            pileTops.append(newNode)\n",
    "        else:\n",
    "            pileTops[bisectPos] = newNode\n",
    " \n",
    "        #print([p.val for p in pileTops])\n",
    "    return list(pileTops[-1])[::-1]\n",
    "\n",
    "test = [0, 8, 4, 12, 2, 10, 6, 14, 1, 9, 5, 13, 3, 11, 7, 15]\n",
    "patience_sort(test);"
   ]
  },
  {
   "cell_type": "code",
   "execution_count": null,
   "metadata": {
    "collapsed": true,
    "deletable": true,
    "editable": true
   },
   "outputs": [],
   "source": []
  },
  {
   "cell_type": "code",
   "execution_count": 220,
   "metadata": {
    "collapsed": true,
    "deletable": true,
    "editable": true
   },
   "outputs": [],
   "source": [
    "''' STACKS / QUEUES'''\n",
    "\n",
    "# python list implementation of stack (LIFO)\n",
    "class Stack:\n",
    "    def __init__(self):\n",
    "        self.size = 0\n",
    "        self.data = []\n",
    "    \n",
    "    def push(self, item):\n",
    "        self.data.append(item)\n",
    "        self.size += 1\n",
    "    \n",
    "    def pop(self):\n",
    "        self.size -= 1\n",
    "        val = self.data[self.size]\n",
    "        del self.data[self.size]\n",
    "        return val\n",
    "    \n",
    "    def is_empty(self):\n",
    "        return (self.size == 0)\n",
    "\n",
    "# linked-list implementation of stack (LIFO)\n",
    "class LinkStack:\n",
    "    class StackNode:\n",
    "        def __init__(self, _val=None, _back=None):\n",
    "            self.val = _val\n",
    "            self.back = _back\n",
    "\n",
    "    def __init__(self):\n",
    "        self.prev = None\n",
    "\n",
    "    def push(self, _item):\n",
    "        self.prev = self.StackNode(_item, self.prev)\n",
    "        \n",
    "    def pop(self):\n",
    "        nd = self.prev\n",
    "        self.prev = nd.back\n",
    "        return nd.val\n",
    "    \n",
    "    def is_empty(self):\n",
    "        return (self.prev == None)\n",
    "\n",
    "class LinkQueue:\n",
    "    class QueueNode:\n",
    "        def __init__(self, _val=None, _next=None):\n",
    "            self.val = _val\n",
    "            self.next = _next\n",
    "\n",
    "    def __init__(self):\n",
    "        self.head = None\n",
    "        self.tail = None\n",
    "\n",
    "    def push(self, _item):\n",
    "        newNode = self.QueueNode(_item, None)\n",
    "        if self.head == None:\n",
    "            self.head = newNode\n",
    "        else:\n",
    "            self.tail.next = newNode\n",
    "        \n",
    "    def pop(self):\n",
    "        headNode = self.head\n",
    "        if headNode is None:\n",
    "            return None\n",
    "        self.head = headNode.next\n",
    "        return headNode.val\n",
    "    \n",
    "    def is_empty(self):\n",
    "        return (self.head == None)"
   ]
  },
  {
   "cell_type": "code",
   "execution_count": 210,
   "metadata": {
    "collapsed": false,
    "deletable": true,
    "editable": true
   },
   "outputs": [
    {
     "data": {
      "text/plain": [
       "'over the lazy dog'"
      ]
     },
     "execution_count": 210,
     "metadata": {},
     "output_type": "execute_result"
    }
   ],
   "source": [
    "linkStack = LinkStack()\n",
    "\n",
    "linkStack.push(72)\n",
    "linkStack.push('the quick brown fox')\n",
    "linkStack.push('jumped')\n",
    "linkStack.push('over the lazy dog')\n",
    "linkStack.push(print)\n",
    "linkStack.pop()\n",
    "linkStack.pop()\n"
   ]
  },
  {
   "cell_type": "code",
   "execution_count": 222,
   "metadata": {
    "collapsed": false,
    "deletable": true,
    "editable": true
   },
   "outputs": [],
   "source": [
    "while not linkStack.is_empty():\n",
    "    print(linkStack.pop())"
   ]
  },
  {
   "cell_type": "code",
   "execution_count": 221,
   "metadata": {
    "collapsed": false,
    "deletable": true,
    "editable": true
   },
   "outputs": [
    {
     "name": "stdout",
     "output_type": "stream",
     "text": [
      "A\n",
      "2\n",
      "C\n",
      "4\n",
      "D\n",
      "X\n",
      "X\n",
      "None\n",
      "None\n",
      "None\n"
     ]
    }
   ],
   "source": [
    "Q = LinkQueue()\n",
    "Q.push('A')\n",
    "Q.push(2)\n",
    "Q.push('C')\n",
    "Q.push(4)\n",
    "Q.push('D')\n",
    "\n",
    "while not Q.is_empty():\n",
    "    Q.push('X')\n",
    "    print(Q.pop())\n",
    "    print(Q.pop())\n",
    "    print(Q.pop())\n",
    "    print(Q.pop())\n",
    "    print(Q.pop())\n"
   ]
  },
  {
   "cell_type": "code",
   "execution_count": null,
   "metadata": {
    "collapsed": true,
    "deletable": true,
    "editable": true
   },
   "outputs": [],
   "source": [
    "''' vagaries of python classes '''\n",
    "class anything_goes:\n",
    "    def __init__(self):\n",
    "        return\n",
    "\n",
    "def myAdd(a,b):\n",
    "    return a+b\n",
    "    \n",
    "wtf = anything_goes()\n",
    "wtf.val = 7\n",
    "wtf.function = myAdd\n",
    "wtf.someAry = [1, 2, 3, 4, 5]\n",
    "\n",
    "wtf.function(2,3)"
   ]
  },
  {
   "cell_type": "code",
   "execution_count": 108,
   "metadata": {
    "collapsed": true,
    "deletable": true,
    "editable": true
   },
   "outputs": [],
   "source": [
    "a = [1,2,3,4,5]\n",
    "a.insert(99,3)"
   ]
  },
  {
   "cell_type": "code",
   "execution_count": 482,
   "metadata": {
    "collapsed": false,
    "deletable": true,
    "editable": true
   },
   "outputs": [],
   "source": [
    "from sys import maxsize\n",
    "from math import log2\n",
    "\n",
    "def print_binary(val):\n",
    "    printStr = ''\n",
    "    for idxNo in range(int(log2(val)+1.0)):\n",
    "        printStr +=  '1' if (val & (1 << idxNo)) else '0'\n",
    "    print(printStr)\n",
    "\n",
    "class TrueFalseArray:\n",
    "    def __init__(self):\n",
    "        self.storeAry = []\n",
    "        self.itemCount = 0\n",
    "        self.blkCount = 0\n",
    "        self.maxIntBits = int(log2(maxsize))\n",
    "        self.maxIntOnes = (1 << (self.maxIntBits+1))-1\n",
    "    \n",
    "    def append(self, _bool):\n",
    "        if self.itemCount % self.maxIntBits == 0:\n",
    "            self.storeAry.append(int(_bool))\n",
    "            self.blkCount += 1\n",
    "        elif _bool:\n",
    "            self.storeAry[-1] |= ( 1 << (self.itemCount % self.maxIntBits) )\n",
    "\n",
    "        self.itemCount += 1\n",
    "        \n",
    "    def __str__(self):\n",
    "        printStr = ''\n",
    "        for blkNo in range(self.blkCount):\n",
    "            blkStart = self.maxIntBits * blkNo\n",
    "            blkVal = self.storeAry[blkNo]\n",
    "            blkEnd = min(self.maxIntBits, self.itemCount-blkStart)\n",
    "            for idxNo in range(blkEnd):\n",
    "                printStr += ('1' if (blkVal & 1 << idxNo)>0 else '0' )\n",
    "            printStr += ' '\n",
    "        return printStr\n",
    "    \n",
    "    def __getitem__(self, elemNo):\n",
    "        if elemNo > self.itemCount:\n",
    "            return None\n",
    "        blkNo = int(elemNo // self.maxIntBits)\n",
    "        if blkNo > self.blkCount:\n",
    "            return None\n",
    "        \n",
    "        blkVal = self.storeAry[blkNo]\n",
    "        return bool( blkVal & (1 << (elemNo % self.maxIntBits) ) )\n",
    "    \n",
    "    def __setitem__(self, elemNo, val):\n",
    "        if elemNo > self.itemCount:\n",
    "            self.itemCount = elemNo\n",
    "\n",
    "        blkNo = int(elemNo // self.maxIntBits)\n",
    "        while blkNo > self.blkCount:\n",
    "            self.storeAry.append(int(0))\n",
    "            self.blkCount += 1\n",
    "\n",
    "        #to set, say, elem 4 true:  val | ...001000  \n",
    "        if val:\n",
    "            self.storeAry[blkNo] |= ( 1 << (elemNo % self.maxIntBits) )\n",
    "        #to set, say, elem 4 false:  val & ...110111. 1<<maxIntBits-1 is all 1's binary\n",
    "        else:\n",
    "            self.storeAry[blkNo] &= (self.maxIntOnes - (1 << (elemNo % self.maxIntBits)))\n",
    "        "
   ]
  },
  {
   "cell_type": "code",
   "execution_count": 483,
   "metadata": {
    "collapsed": false,
    "deletable": true,
    "editable": true
   },
   "outputs": [],
   "source": [
    "from random import random as rand\n",
    "tf = TrueFalseArray()\n",
    "for idx in range(72):\n",
    "    tf.append(rand()>.5)"
   ]
  },
  {
   "cell_type": "code",
   "execution_count": 484,
   "metadata": {
    "collapsed": false,
    "deletable": true,
    "editable": true,
    "scrolled": false
   },
   "outputs": [
    {
     "name": "stdout",
     "output_type": "stream",
     "text": [
      "111110111011001010000101111101110111100100001101111010110001000 101010100 \n"
     ]
    }
   ],
   "source": [
    "print(tf)"
   ]
  },
  {
   "cell_type": "code",
   "execution_count": 103,
   "metadata": {
    "collapsed": false,
    "deletable": true,
    "editable": true
   },
   "outputs": [],
   "source": [
    "class Heap:\n",
    "    def __init__(self, _ary=[]):\n",
    "        self.heapAry = []\n",
    "        self.itemCount = 0\n",
    "        for item in _ary:\n",
    "            add_item(item)\n",
    "    \n",
    "    # pos = heapAry_index - 1 (the doubling and halving stuff works with pos, not the actual idx)\n",
    "    def fix_up(self, fixIdx):\n",
    "        fixPos = fixIdx+1\n",
    "        parentPos = int(fixPos//2)\n",
    "        while parentPos>0 and self.heapAry[fixPos-1] > self.heapAry[parentPos-1]:   #item comparison function __gt__\n",
    "            self.heapAry[parentPos-1], self.heapAry[fixPos-1] = self.heapAry[fixPos-1], self.heapAry[parentPos-1]  #pos-1 = index in ary\n",
    "            fixPos = parentPos\n",
    "            parentPos = int(fixPos//2)\n",
    "        \n",
    "    def add_item(self, item):\n",
    "        self.heapAry.append(item)\n",
    "        self.itemCount += 1\n",
    "        self.fix_up(self.itemCount-1)\n",
    "        \n",
    "    def fix_down(self, fixIdx):\n",
    "        fixPos = fixIdx+1\n",
    "        childPos = 2*fixPos\n",
    "        while childPos <= self.itemCount:  #itemCount = max_ary_index + 1 = max_pos\n",
    "            #we want the larger siblign to swap with parent, otherwise new parent would be less than the child\n",
    "            if childPos < self.itemCount and self.heapAry[childPos-1] < self.heapAry[childPos]:  #childPos-1 is child, childPos (=childPos-1 + 1) is sibling\n",
    "                childPos += 1\n",
    "            if self.heapAry[fixPos-1] < self.heapAry[childPos-1]:\n",
    "                self.heapAry[fixPos-1], self.heapAry[childPos-1] = self.heapAry[childPos-1], self.heapAry[fixPos-1]\n",
    "                fixPos = childPos\n",
    "                childPos *= 2\n",
    "            else:\n",
    "                break\n",
    "    \n",
    "    # max val is at top (idx 0). we're going to remove that node but we can't leave a void. we swap last element to top and then repair the disorder\n",
    "    def pop_max(self):\n",
    "        self.heapAry[0], self.heapAry[self.itemCount-1] = self.heapAry[self.itemCount-1], self.heapAry[0]\n",
    "        self.itemCount -= 1  #we don't want the item we're fixing to bump the top item we swapped out, decrement itemCount before fix (it's pos itemCount)\n",
    "        self.fix_down(0)\n",
    "        # we don't have to delete the popped item from ary, just decrement the count\n",
    "        return self.heapAry[self.itemCount]  #the item we swapped from pos 0\n",
    "    \n",
    "    def __str__(self):\n",
    "        if self.itemCount == 0:\n",
    "            return ''\n",
    "        rowCnt = lg2(self.itemCount) + 1\n",
    "        heapStr = '' #str(self.heapAry[0])\n",
    "        \n",
    "        totNo = 0\n",
    "        for rowNo in range(rowCnt):\n",
    "            heapStr += '' + '  '*(rowCnt-rowNo-1)\n",
    "            for itemNo in range(1<<rowNo):\n",
    "                if totNo == self.itemCount:\n",
    "                    return heapStr\n",
    "                heapStr += '  '+str(h.heapAry[totNo])+('  ' if itemNo%2 else ' ')\n",
    "                totNo += 1\n",
    "            if rowNo == rowCnt-1:\n",
    "                return heapStr\n",
    "            heapStr += '\\n' + '  '*(rowCnt-rowNo-1) + ' '\n",
    "            for branchNo in range(1<<rowNo):\n",
    "                heapStr += ' /\\\\ '+(' ' if branchNo%2 else ' ')\n",
    "            heapStr += '\\n'\n",
    "        \n",
    "        return heapStr\n",
    "\n",
    "def lg2(value):\n",
    "    value |= value >> 1\n",
    "    value |= value >> 2\n",
    "    value |= value >> 4\n",
    "    value |= value >> 8\n",
    "    value |= value >> 16\n",
    "    return log2_lut[(value*0x07C4ACDD)%0x100000000 >> 27]\n",
    "\n",
    "log2_lut = [\n",
    "     0,  9,  1, 10, 13, 21,  2, 29,\n",
    "    11, 14, 16, 18, 22, 25,  3, 30,\n",
    "     8, 12, 20, 28, 15, 17, 24,  7,\n",
    "    19, 27, 23,  6, 26,  5,  4, 31\n",
    "]\n",
    "\n"
   ]
  },
  {
   "cell_type": "code",
   "execution_count": 104,
   "metadata": {
    "collapsed": false,
    "deletable": true,
    "editable": true
   },
   "outputs": [
    {
     "name": "stdout",
     "output_type": "stream",
     "text": [
      "        j \n",
      "        /\\  \n",
      "      i   f  \n",
      "      /\\   /\\  \n",
      "    g   h    b   e  \n",
      "    /\\   /\\   /\\   /\\  \n",
      "  a   d    c \n"
     ]
    }
   ],
   "source": [
    "h = Heap()\n",
    "\n",
    "h.add_item('a')\n",
    "h.add_item('b')\n",
    "h.add_item('c')\n",
    "h.add_item('d')\n",
    "h.add_item('e')\n",
    "h.add_item('f')\n",
    "h.add_item('g')\n",
    "h.add_item('h')\n",
    "h.add_item('i')\n",
    "h.add_item('j')\n",
    "print(h)"
   ]
  },
  {
   "cell_type": "code",
   "execution_count": 58,
   "metadata": {
    "collapsed": false,
    "deletable": true,
    "editable": true
   },
   "outputs": [
    {
     "ename": "IndexError",
     "evalue": "list index out of range",
     "output_type": "error",
     "traceback": [
      "\u001b[0;31m---------------------------------------------------------------------------\u001b[0m",
      "\u001b[0;31mIndexError\u001b[0m                                Traceback (most recent call last)",
      "\u001b[0;32m<ipython-input-58-e87b5287da5d>\u001b[0m in \u001b[0;36m<module>\u001b[0;34m()\u001b[0m\n\u001b[1;32m      8\u001b[0m     \u001b[0mheapStr\u001b[0m \u001b[1;33m+=\u001b[0m \u001b[1;34m' '\u001b[0m \u001b[1;33m+\u001b[0m \u001b[1;34m'  '\u001b[0m\u001b[1;33m*\u001b[0m\u001b[1;33m(\u001b[0m\u001b[0mrowCnt\u001b[0m\u001b[1;33m-\u001b[0m\u001b[0mrowNo\u001b[0m\u001b[1;33m-\u001b[0m\u001b[1;36m1\u001b[0m\u001b[1;33m)\u001b[0m\u001b[1;33m\u001b[0m\u001b[0m\n\u001b[1;32m      9\u001b[0m     \u001b[1;32mfor\u001b[0m \u001b[0mitemNo\u001b[0m \u001b[1;32min\u001b[0m \u001b[0mrange\u001b[0m\u001b[1;33m(\u001b[0m\u001b[1;36m1\u001b[0m\u001b[1;33m<<\u001b[0m\u001b[0mrowNo\u001b[0m\u001b[1;33m)\u001b[0m\u001b[1;33m:\u001b[0m\u001b[1;33m\u001b[0m\u001b[0m\n\u001b[0;32m---> 10\u001b[0;31m         \u001b[0mheapStr\u001b[0m \u001b[1;33m+=\u001b[0m \u001b[1;34m'  '\u001b[0m\u001b[1;33m+\u001b[0m\u001b[0mstr\u001b[0m\u001b[1;33m(\u001b[0m\u001b[0mh\u001b[0m\u001b[1;33m.\u001b[0m\u001b[0mheapAry\u001b[0m\u001b[1;33m[\u001b[0m\u001b[0mtotNo\u001b[0m\u001b[1;33m]\u001b[0m\u001b[1;33m)\u001b[0m\u001b[1;33m\u001b[0m\u001b[0m\n\u001b[0m\u001b[1;32m     11\u001b[0m         \u001b[0mtotNo\u001b[0m \u001b[1;33m+=\u001b[0m \u001b[1;36m1\u001b[0m\u001b[1;33m\u001b[0m\u001b[0m\n\u001b[1;32m     12\u001b[0m     \u001b[0mheapStr\u001b[0m \u001b[1;33m+=\u001b[0m \u001b[1;34m'\\n'\u001b[0m \u001b[1;33m+\u001b[0m \u001b[1;34m'  '\u001b[0m\u001b[1;33m*\u001b[0m\u001b[1;33m(\u001b[0m\u001b[0mrowCnt\u001b[0m\u001b[1;33m-\u001b[0m\u001b[0mrowNo\u001b[0m\u001b[1;33m-\u001b[0m\u001b[1;36m1\u001b[0m\u001b[1;33m)\u001b[0m \u001b[1;33m+\u001b[0m \u001b[1;34m' '\u001b[0m\u001b[1;33m\u001b[0m\u001b[0m\n",
      "\u001b[0;31mIndexError\u001b[0m: list index out of range"
     ]
    }
   ],
   "source": [
    "if h.itemCount == 0:\n",
    "    print('#')\n",
    "rowCnt = lg2(h.itemCount) + 1\n",
    "heapStr = '' #str(self.heapAry[0])\n",
    "\n",
    "totNo = 0\n",
    "for rowNo in range(rowCnt):\n",
    "    heapStr += ' ' + '  '*(rowCnt-rowNo-1)\n",
    "    for itemNo in range(1<<rowNo):\n",
    "        heapStr += '  '+str(h.heapAry[totNo])\n",
    "        totNo += 1\n",
    "    heapStr += '\\n' + '  '*(rowCnt-rowNo-1) + ' '\n",
    "    for branchNo in range(1<<rowNo):\n",
    "        heapStr += ' /\\\\'\n",
    "    heapStr += '\\n'"
   ]
  },
  {
   "cell_type": "code",
   "execution_count": 59,
   "metadata": {
    "collapsed": false,
    "deletable": true,
    "editable": true
   },
   "outputs": [
    {
     "name": "stdout",
     "output_type": "stream",
     "text": [
      "       e\n",
      "      /\\\n",
      "     d  b\n",
      "    /\\ /\\\n",
      "   a  c\n"
     ]
    }
   ],
   "source": [
    "print(heapStr)"
   ]
  }
 ],
 "metadata": {
  "kernelspec": {
   "display_name": "Python 3",
   "language": "python",
   "name": "python3"
  },
  "language_info": {
   "codemirror_mode": {
    "name": "ipython",
    "version": 3
   },
   "file_extension": ".py",
   "mimetype": "text/x-python",
   "name": "python",
   "nbconvert_exporter": "python",
   "pygments_lexer": "ipython3",
   "version": "3.5.3"
  }
 },
 "nbformat": 4,
 "nbformat_minor": 2
}
