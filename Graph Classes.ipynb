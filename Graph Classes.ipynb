{
 "cells": [
  {
   "cell_type": "code",
   "execution_count": 1,
   "metadata": {
    "collapsed": false
   },
   "outputs": [
    {
     "data": {
      "text/html": [
       "<style>.container { width: 100% !important; }</style>"
      ],
      "text/plain": [
       "<IPython.core.display.HTML object>"
      ]
     },
     "metadata": {},
     "output_type": "display_data"
    }
   ],
   "source": [
    "from IPython.core.display import display, HTML\n",
    "display(HTML(\"<style>.container { width: 100% !important; }</style>\"))"
   ]
  },
  {
   "cell_type": "code",
   "execution_count": 76,
   "metadata": {
    "collapsed": true
   },
   "outputs": [],
   "source": [
    "#directed unweighted graph (only connections, i.e. A->B )\n",
    "class DirectedUnweightedGraph():\n",
    "    def __init__(self):\n",
    "        self.edges = {}\n",
    "        self.nodeCount = 0\n",
    "        self.nodeWidth = 1\n",
    " \n",
    "    def addEdge(self,fromNode,toNode):\n",
    "        self.nodeWidth = max( self.nodeWidth,len(str(fromNode)),len(str(toNode)) )\n",
    "        if fromNode not in self.edges:\n",
    "            self.edges[fromNode] = []\n",
    "            self.nodeCount += 1\n",
    "        if toNode not in self.edges:\n",
    "            self.nodeCount += 1\n",
    "            self.edges[toNode] = []\n",
    "        if toNode not in self.edges[fromNode]:\n",
    "            self.edges[fromNode].append(toNode)\n",
    "        \n",
    "    def printMatrix(self):\n",
    "        orderList = [0]*self.nodeCount\n",
    "        orderNo = 0\n",
    "        for node in sorted(self.edges.keys()):\n",
    "            orderList[orderNo] = node\n",
    "            orderNo += 1\n",
    "\n",
    "        print(' '*self.nodeWidth+' ',' '.join([str(node).rjust(self.nodeWidth) for node in sorted(self.edges.keys())]) )\n",
    "        \n",
    "        for fromNode in sorted(self.edges.keys()):\n",
    "            rowStr = str(fromNode).rjust(self.nodeWidth)+\")\"\n",
    "            for colNo in range(orderNo):\n",
    "                toNode = orderList[colNo]\n",
    "                if toNode in self.edges[fromNode]:\n",
    "                    rowStr += ' '*self.nodeWidth+'x'\n",
    "                else:\n",
    "                    rowStr += ' '*self.nodeWidth+'.'\n",
    "            print(rowStr)\n",
    " \n",
    "    def hasCycleHelper(self, srcNode, nodesVisited, nodesChecked):\n",
    "        nodesVisited[srcNode] = True\n",
    "        nodesChecked[srcNode] = True\n",
    "        for connectedNode in self.edges[srcNode]:\n",
    "            if not nodesVisited[connectedNode]:\n",
    "                if self.hasCycleHelper(connectedNode, nodesVisited, nodesChecked):\n",
    "                    return True\n",
    "            elif nodesChecked[connectedNode]:\n",
    "                return True\n",
    " \n",
    "        nodesChecked[srcNode] = False\n",
    "        return False\n",
    " \n",
    "    # Returns true if graph is cyclic else false\n",
    "    def hasCycle(self):\n",
    "        nodesVisited = {}\n",
    "        nodesChecked = {}\n",
    "        for node in self.edges.keys():\n",
    "            nodesVisited[node] = False\n",
    "            nodesChecked[node] = False\n",
    "        \n",
    "        for node in self.edges.keys():\n",
    "            if not nodesVisited[node]:\n",
    "                if self.hasCycleHelper(node,nodesVisited,nodesChecked):\n",
    "                    return True\n",
    "        return False"
   ]
  },
  {
   "cell_type": "code",
   "execution_count": 79,
   "metadata": {
    "collapsed": false
   },
   "outputs": [],
   "source": [
    "myG = DirectedUnweightedGraph()\n",
    "myG.addEdge('A','B')\n",
    "myG.addEdge('A','C')\n",
    "myG.addEdge('A','DDD')\n",
    "myG.addEdge('B','C')\n",
    "myG.addEdge('B','D')\n",
    "myG.addEdge('C','D')\n",
    "myG.addEdge('D','FF')"
   ]
  },
  {
   "cell_type": "code",
   "execution_count": 81,
   "metadata": {
    "collapsed": false,
    "scrolled": true
   },
   "outputs": [
    {
     "name": "stdout",
     "output_type": "stream",
     "text": [
      "       A   B   C   D DDD  FF\n",
      "  A)   .   x   x   .   x   .\n",
      "  B)   .   .   x   x   .   .\n",
      "  C)   .   .   .   x   .   .\n",
      "  D)   .   .   .   .   .   x\n",
      "DDD)   .   .   .   .   .   .\n",
      " FF)   .   .   .   .   .   .\n"
     ]
    },
    {
     "data": {
      "text/plain": [
       "False"
      ]
     },
     "execution_count": 81,
     "metadata": {},
     "output_type": "execute_result"
    }
   ],
   "source": [
    "myG.printMatrix()\n",
    "myG.hasCycle()"
   ]
  },
  {
   "cell_type": "code",
   "execution_count": null,
   "metadata": {
    "collapsed": true
   },
   "outputs": [],
   "source": []
  },
  {
   "cell_type": "code",
   "execution_count": 230,
   "metadata": {
    "collapsed": true
   },
   "outputs": [],
   "source": [
    "\"\"\" get transport from node A to B \"\"\"\n",
    "\"\"\" allows multiply counting bottleneckes, so traversing an edge does not reduce its capacity \"\"\"\n",
    "\"\"\" this one has 3 lines of cool comments \"\"\"\n",
    "debugTransport = False\n",
    "\n",
    "def adjacentNodes(path, srcNode):\n",
    "    connectedToSourceNodes = []\n",
    "    for adjacentNode in range(len(path)):\n",
    "        if path[srcNode][adjacentNode] > 0:\n",
    "            connectedToSourceNodes.append(adjacentNode)\n",
    "    return connectedToSourceNodes\n",
    "    \n",
    "def getTransportHelper(path, curNode, tgtNode, solvedNodes, maxTransportVals, visitedNodes, depth):\n",
    "    connectedNodes = adjacentNodes(path, curNode)\n",
    "    visitedNodes[curNode] = True\n",
    "    #throughput from curNode to target is sum of each connected/child node's throughput, limited by the amount we can transfer directly to the children (path[cur][child])\n",
    "    toTarget = 0\n",
    "    for adjNode in connectedNodes:       \n",
    "        if adjNode == tgtNode:\n",
    "            adjTransport = 99999999\n",
    "        elif solvedNodes[adjNode]:\n",
    "            adjTransport = maxTransportVals[adjNode]\n",
    "        elif visitedNodes[adjNode]:\n",
    "            continue\n",
    "        else:\n",
    "            adjTransport = getTransportHelper(path, adjNode, tgtNode, solvedNodes, maxTransportVals, visitedNodes, depth+1)\n",
    "        toTarget += min(path[curNode][adjNode] , adjTransport)\n",
    "    \n",
    "    maxTransportVals[curNode] = max(maxTransportVals[curNode], toTarget)  #shouldn't have toTarget greater...\n",
    "    solvedNodes[curNode] = True\n",
    "    return toTarget\n",
    "\n",
    "\n",
    "def getTransportTo(path, tgtNode):\n",
    "    N = len(path)\n",
    "    maxTransportVals = [0] * N\n",
    "    solvedNodes = [False] * N\n",
    "    for srcNode in range(N):\n",
    "        if srcNode != tgtNode:\n",
    "            visitedNodes = [False] * N\n",
    "            getTransportHelper(path, srcNode, tgtNode, solvedNodes, maxTransportVals, visitedNodes,0)\n",
    "    \n",
    "    return maxTransportVals\n",
    "\n",
    "def answer(entrances, exits, path):\n",
    "    tot = 0\n",
    "    for tgt in exits:\n",
    "        maxTransport = getTransportTo(path, tgt)\n",
    "        for src in entrances:\n",
    "            tot += maxTransport[src]\n",
    "    return tot"
   ]
  },
  {
   "cell_type": "code",
   "execution_count": null,
   "metadata": {
    "collapsed": true
   },
   "outputs": [],
   "source": [
    "#used by calculateMinCostMat to get the distance of all nodes from a single, given node\n",
    "#useful in general to find shortest path between nodes in a complete graph\n",
    "def calcualteCostToNodesFromSource(costMat, sourceNode):\n",
    "    #defining a function inside a function. this is local to the outer function (calcualteCostToNodesFromSource)\n",
    "    #just returns next True element number from workList, or -1 if no True elements\n",
    "    def getNextWorkNode(workList, N):\n",
    "        for nodeNo in range(N):\n",
    "            if workList[nodeNo]:\n",
    "                return nodeNo  #return first True element\n",
    "        return -1  # no work left to be done (all False)    N = len(costMat)  #count of nodes including start/end\n",
    "\n",
    "    N = len(costMat)\n",
    "    nodeList = [k for k in range(N) if k != sourceNode] #in path from beginNode to endNode, we don't need to re-visit beginNode\n",
    "    needsWork = [False]*N  #every time we update cost-to-get-to-a-node, set node# element True. We're done when all false\n",
    "    nodeCosts = [999]*N    #minimum cost-to-get-to-a-node that we know of for each node. Initially all are infinity\n",
    "    nodePaths = [[] for k in range(N)] #we save minimum cost path-to-reach-node here. We do need to know the paths as well as costs\n",
    "    needsWork[sourceNode] = True  #start by branching away from the source/begin node\n",
    "    nodeCosts[sourceNode] = 0     #used on first step to set initial cost=0\n",
    "    #prevNodes = [0 for k in range(N)]  #could just store the from/previous node from best path to that node. If want to get the full path just step backwards to beginNode. More work to unravel the path but this way is mroe efficient. Efficiency not really a problem at the moment, though\n",
    "\n",
    "    while True:\n",
    "        fromNode = getNextWorkNode(needsWork, N)  #get next node that needs work (first True element of needsWork)\n",
    "        if fromNode == -1:  #no work left, we're done\n",
    "            break\n",
    "\n",
    "        #print(fromNode)\n",
    "        curPath = nodePaths[fromNode]      # path taken (list) to reach current node (excluding beginNode). It will include fromNode\n",
    "        curPathCost = nodeCosts[fromNode]  # cost/distance from following this path     \n",
    "        newPathLen = len(curPath) + 1    #might use later if we prefer to keep the longest or shortest path when equal cost...\n",
    "\n",
    "        nodesToVisit = (node for node in nodeList if node not in curPath)  #i think this is roughly as efficient as putting the if inside the loop? generates an iterator\n",
    "        for toNode in nodesToVisit:  #branch from our fromNode to each other nodes (toNode's)\n",
    "            edgeCost = costMat[fromNode][toNode]  #get the given cost to travel directly from fromNode to toNode\n",
    "            newPathCost = edgeCost + curPathCost  #unnecessary intermediate step for clarity\n",
    "            toNodeCost = nodeCosts[toNode]\n",
    "            if newPathCost < toNodeCost:\n",
    "                nodeCosts[toNode] = newPathCost         #new minimum cost to reach toNode\n",
    "                nodePaths[toNode] = curPath + [toNode]  #update best path to toNode with currentPath. Append toNode\n",
    "                #  prevNodes[toNode] = fromNode            #save just the previous node in our path?\n",
    "                needsWork[toNode] = True                #indicate we need to propagate/branch from toNode given new lower cost to reach\n",
    "\n",
    "            #maybe not needed. handling to prefer longer or shorter paths when cost is equal. If keeping, make function for copied update-toNode-stuff\n",
    "            elif newPathCost == nodeCosts[toNode]:\n",
    "                #print('doin the equals thing:',fromNode, 'to', toNode)\n",
    "                toPathLen = len(nodePaths[toNode])\n",
    "                if newPathLen > toPathLen: \n",
    "                    nodeCosts[toNode] = newPathCost         #new minimum cost to reach toNode\n",
    "                    nodePaths[toNode] = curPath + [toNode]  #update best path to toNode with currentPath. Append toNode\n",
    "                    #prevNodes[toNode] = fromNode            #save just the previous node in our path?\n",
    "                    needsWork[toNode] = True                #This is only needed to update the path in this version where we save the whole path. The cost was not reduced, we just want to propagatethe path if continued elsewhere\n",
    "\n",
    "        needsWork[fromNode] = False   #having finished this iteration of while loop, fromNode o longer requires branching/work until/unless it gets updated again\n",
    "    \n",
    "    #return nodeCosts\n",
    "    return nodeCosts, nodePaths\n",
    "\n",
    "\n",
    "#given an NxN matrix representing a (complete, bidirected?) graph of costs to travel directly between any 2 of N nodes (edge length/cost),\n",
    "#recalcuate the costs as the minimum cost path rather than the direct cost (minimum over multipel edges if short than connecting edge)\n",
    "#e.g. if it's cheaper to go node A-to-B as A->C->B than as A->B (=costMat[A][B]), we set the value at minCostMat[A][B] = A->C->B (=costMat[A][B] + costMat[B][C]) \n",
    "#i guess it doesn't matter but the convention here is that the row is the from-node and the column is the to-node costMat[FROM][TO] = cost from FROM to TO\n",
    "#negative edge costs are allowed. We don't revisit edges, so any negative loops won't be detected or result in -∞  cost\n",
    "def calculateMinCostMat(costMat):\n",
    "    minCostMat = []\n",
    "    minPathMat = []\n",
    "    for rowNo in range(len(costMat)):\n",
    "        minCostRow,minPaths = calcualteCostToNodesFromSource(costMat, rowNo)\n",
    "        minCostMat.append(minCostRow)\n",
    "        minPathMat.append(minPaths)\n",
    "    \n",
    "    return minCostMat, minPathMat\n",
    "\n",
    "\n",
    "#This checks for inifite loops. If a circuit has negative cost to traverse, one can traverse it infinitely. must use calculateMinCostMat(costMat) first\n",
    "# and keep decreasing cost (for time limit problem, you can follow the loop to gain infinite time, then travel anywhere without restriction)\n",
    "def hasNegativeInfinityLoop(costMat):\n",
    "    N = len(costMat)\n",
    "    for rowNo in range(N):\n",
    "        for colNo in range(N):\n",
    "            if costMat[rowNo][colNo] + costMat[colNo][rowNo] < 0:  #shortest path from A to B plus B to A, a loop.\n",
    "                return True, (rowNo,colNo)\n",
    "    \n",
    "    return False, ()"
   ]
  },
  {
   "cell_type": "code",
   "execution_count": null,
   "metadata": {
    "collapsed": true
   },
   "outputs": [],
   "source": []
  },
  {
   "cell_type": "code",
   "execution_count": null,
   "metadata": {
    "collapsed": true
   },
   "outputs": [],
   "source": [
    "def transportTo(path,)\n",
    "\n",
    "def transportHelper(path, fromNode, visitedNodes, childrenCache, distanceCache):\n",
    "    visitedNodes[fromNode] = True\n",
    "    \n",
    "    connectedNodes = []\n",
    "    for toNode in range(N):\n",
    "        if path[fromNode][toNode] > 0:\n",
    "            connectedNodes.append(toNode)\n",
    "    \n",
    "    maxCapToTarget[target] = 0\n",
    "    maxCapToTarget[target] = sum(maxCapToTarget\n",
    "    for toNode in connectedNodes:\n",
    "        if not visitedNodes[toNode]:\n",
    "            \n",
    "\n",
    "def totalTransport(path):\n",
    "    output = deepcopy(path)\n",
    "    N = len(path)\n",
    "    visitedNodes = [False]*N\n",
    "    childrenCache = [False]*N\n",
    "        \n",
    "    for fromNode in range(N):\n",
    "        visitedNodes = [False]*N\n",
    "        transportHelper(path, fromNode, visitedNodes, childrenCache, distanceCache)\n"
   ]
  },
  {
   "cell_type": "code",
   "execution_count": null,
   "metadata": {
    "collapsed": true
   },
   "outputs": [],
   "source": [
    "def getAdjacentNodes(path, srcNode):\n",
    "    connectedToSourceNodes = []\n",
    "    for adjacentNode in range(len(path)):\n",
    "        if path[srcNode][adjacentNode] > 0:\n",
    "            connectedToSourceNodes.append(adjacentNode)\n",
    "    return connectedToSourceNodes\n",
    "\n",
    "def getTransTo(path, tgtNode):\n",
    "    connectedTo = getAdjacentNodes(path, curNode)\n",
    "    \n",
    "    for adjNode in connectedTo"
   ]
  },
  {
   "cell_type": "code",
   "execution_count": null,
   "metadata": {
    "collapsed": true
   },
   "outputs": [],
   "source": [
    "\"\"\" get thruput from node A to B \"\"\"\n",
    "\"\"\" don't count bottlenecks? traversing an edge DOES reduce its capacity \"\"\"\n",
    "debugThroughput = False\n",
    "\n",
    "def getAdjacentNodes(path, srcNode):\n",
    "    connectedToSourceNodes = []\n",
    "    for adjacentNode in range(len(path)):\n",
    "        if path[srcNode][adjacentNode] > 0:\n",
    "            connectedToSourceNodes.append(adjacentNode)\n",
    "    return connectedToSourceNodes\n",
    "    \n",
    "def getThroughputHelper(path, curNode, tgtNode, visitedNodes, maxTransportVals, localVisit, depth):\n",
    "    connectedNodes = getAdjacentNodes(path, curNode)\n",
    "    localVisit[curNode] = True\n",
    "    \n",
    "    if debugThroughput:\n",
    "        prntStr = '_._'*depth+'f('+chr(65+curNode)+') = ' \n",
    "        prntStr += ' + '.join(['min( ['+chr(65+curNode)+'->'+chr(65+x)+'],f('+chr(65+x)+') )' for x in connectedNodes])\n",
    "        prntStr += '   [d='+str(depth)+']'\n",
    "        print(prntStr)\n",
    "    \n",
    "    #throughput from curNode to target is sum of each connected/child node's throughput, limited by the amount we can transfer directly to the children (path[cur][child])\n",
    "    #additionally, once we confirm passing some amount to target via some route, we won't allow a different route to reuse that capacity...\n",
    "    toTarget = 0\n",
    "    for adjNode in connectedNodes:\n",
    "        if debugThroughput: print('  '*depth+chr(65+curNode)+': min( '+str(path[curNode][adjNode])+', f('+chr(65+adjNode)+') )')\n",
    "        \n",
    "        if adjNode == tgtNode:\n",
    "            adjTransport = 99999999\n",
    "        elif visitedNodes[adjNode]:\n",
    "            adjTransport = maxTransportVals[adjNode]\n",
    "        elif localVisit[adjNode]:\n",
    "            continue\n",
    "        else:\n",
    "            adjTransport = getThroughputHelper(path, adjNode, tgtNode, visitedNodes, maxTransportVals, localVisit, depth+1)\n",
    "        \n",
    "        toTarget += min(path[curNode][adjNode] , adjTransport)\n",
    "        \n",
    "    if debugThroughput: print('  '*depth+'f('+chr(65+curNode)+') = '+str(toTarget))\n",
    "    maxTransportVals[curNode] = max(maxTransportVals[curNode], toTarget)\n",
    "    visitedNodes[curNode] = True\n",
    "    return toTarget\n",
    "\n",
    "\n",
    "def getThroughput(path, tgtNode):\n",
    "    N = len(path)\n",
    "    maxTransportVals = [0] * N\n",
    "    visitedNodes = [False] * N\n",
    "    for srcNode in range(N):\n",
    "        if srcNode != tgtNode:\n",
    "            localVisit = [False] * N\n",
    "            getThroughputHelper(path, srcNode, tgtNode, visitedNodes, maxTransportVals, localVisit,0)\n",
    "    \n",
    "    return maxTransportVals"
   ]
  },
  {
   "cell_type": "code",
   "execution_count": 229,
   "metadata": {
    "collapsed": false
   },
   "outputs": [
    {
     "data": {
      "text/plain": [
       "[17, 7, 8, 12, 9, 0]"
      ]
     },
     "execution_count": 229,
     "metadata": {},
     "output_type": "execute_result"
    }
   ],
   "source": [
    "p = [\n",
    "  [0, 7, 4, 6, 0, 0],  # Room 0: Bunnies\n",
    "  [0, 0, 5, 2, 0, 0],  # Room 1: Bunnies\n",
    "  [0, 0, 0, 0, 4, 4],  # Room 2: Intermediate room\n",
    "  [0, 0, 0, 0, 6, 6],  # Room 3: Intermediate room\n",
    "  [0, 0, 0, 0, 0, 9],  # Room 4: Escape pods\n",
    "  [0, 0, 0, 0, 0, 0],  # Room 5: Escape pods\n",
    "]\n",
    "\n",
    "getTransportTo(p, 5)"
   ]
  },
  {
   "cell_type": "code",
   "execution_count": 219,
   "metadata": {
    "collapsed": false
   },
   "outputs": [
    {
     "data": {
      "text/plain": [
       "45"
      ]
     },
     "execution_count": 219,
     "metadata": {},
     "output_type": "execute_result"
    }
   ],
   "source": [
    "sum(p[4])"
   ]
  },
  {
   "cell_type": "code",
   "execution_count": 231,
   "metadata": {
    "collapsed": false
   },
   "outputs": [
    {
     "data": {
      "text/plain": [
       "[38, 36, 32, 41, 45, 24, 43, 0]"
      ]
     },
     "execution_count": 231,
     "metadata": {},
     "output_type": "execute_result"
    }
   ],
   "source": [
    "p = [\n",
    " [0, 2, 6, 3, 7, 8, 6, 6],\n",
    " [6, 0, 2, 6, 5, 3, 9, 5],\n",
    " [6, 4, 0, 7, 1, 9, 4, 1],\n",
    " [8, 1, 8, 0, 6, 5, 4, 9],\n",
    " [5, 6, 1, 9, 0, 9, 6, 9],\n",
    " [3, 3, 3, 5, 1, 0, 8, 1],\n",
    " [7, 7, 2, 6, 3, 9, 0, 9],\n",
    " [8, 2, 2, 8, 9, 7, 1, 0]\n",
    "]\n",
    "getTransportTo(p, len(p)-1)"
   ]
  },
  {
   "cell_type": "code",
   "execution_count": 227,
   "metadata": {
    "collapsed": false,
    "scrolled": true
   },
   "outputs": [
    {
     "data": {
      "text/plain": [
       "[9, 9, 9, 6, 6, 6, 0]"
      ]
     },
     "execution_count": 227,
     "metadata": {},
     "output_type": "execute_result"
    }
   ],
   "source": [
    "# A  B  C  D  E  F  G \n",
    "p = [\n",
    " [0, 9, 0, 0, 0, 0, 0], # A\n",
    " [0, 0, 9, 0, 0, 0, 0], # B\n",
    " [0, 0, 0, 3, 6, 0, 0], # C\n",
    " [0, 0, 0, 0, 0, 0, 6], # D  #change D-G to 6/9/3 see how doublecounting/not finding bottleneck working\n",
    " [0, 0, 0, 6, 0, 6, 0], # E\n",
    " [0, 0, 6, 0, 0, 0, 0], # F\n",
    " [0, 0, 0, 0, 0, 0, 0], # G\n",
    "]\n",
    "getTransportTo(p, len(p)-1)"
   ]
  },
  {
   "cell_type": "code",
   "execution_count": 135,
   "metadata": {
    "collapsed": false
   },
   "outputs": [
    {
     "data": {
      "text/plain": [
       "'A'"
      ]
     },
     "execution_count": 135,
     "metadata": {},
     "output_type": "execute_result"
    }
   ],
   "source": [
    "chr(65)"
   ]
  }
 ],
 "metadata": {
  "kernelspec": {
   "display_name": "Python 3",
   "language": "python",
   "name": "python3"
  },
  "language_info": {
   "codemirror_mode": {
    "name": "ipython",
    "version": 3
   },
   "file_extension": ".py",
   "mimetype": "text/x-python",
   "name": "python",
   "nbconvert_exporter": "python",
   "pygments_lexer": "ipython3",
   "version": "3.4.4"
  }
 },
 "nbformat": 4,
 "nbformat_minor": 2
}
